{
 "cells": [
  {
   "cell_type": "markdown",
   "id": "d6bcb130-be21-41c3-8c7f-b90cabb62235",
   "metadata": {
    "tags": []
   },
   "source": [
    "# Order data"
   ]
  },
  {
   "cell_type": "markdown",
   "id": "9f47cb94-7585-470a-ae94-f2d1067af004",
   "metadata": {},
   "source": [
    "---\n",
    "The ordering step could very easily be added into the credit-estimate notebook, which itself could be added to the catalog search notebook. But I chose to separate it because placing an order is as simple as running a code block, and in doing so you might * spend credits *.\n",
    "\n",
    "---"
   ]
  },
  {
   "cell_type": "markdown",
   "id": "181d154c-e546-4513-8636-93a78ed7a92a",
   "metadata": {},
   "source": [
    "Placing an order requires having order_parameters, these are the same as the ones used to run credit cost estimates. In this notebook we will use the 'order_parameters_aoi-commercial-port.json', provided with this notebook, as this is a small aoi where archive data only costs 520 credits (5.2 euros)."
   ]
  },
  {
   "cell_type": "markdown",
   "id": "fc0fd65d-5d33-45f3-a279-948360956783",
   "metadata": {
    "tags": []
   },
   "source": [
    "## Python Libraries"
   ]
  },
  {
   "cell_type": "code",
   "execution_count": 1,
   "id": "00a51b47-7d71-4e0f-922b-5d530e775b9a",
   "metadata": {},
   "outputs": [],
   "source": [
    "import up42\n",
    "\n",
    "from pathlib import Path\n",
    "import json"
   ]
  },
  {
   "cell_type": "markdown",
   "id": "0c67894f-b844-40f2-9d19-01ff46889623",
   "metadata": {
    "tags": []
   },
   "source": [
    "## Authenticate with UP42"
   ]
  },
  {
   "cell_type": "code",
   "execution_count": 2,
   "id": "49283cda-5c43-4a0c-a1f6-425c8cc928c1",
   "metadata": {},
   "outputs": [
    {
     "name": "stderr",
     "output_type": "stream",
     "text": [
      "2023-02-09 14:36:29,448 - Got credentials from config file.\n",
      "2023-02-09 14:36:30,752 - Authentication with UP42 successful!\n"
     ]
    }
   ],
   "source": [
    "# Project credentials\n",
    "project_conf_file = Path.cwd()/'proj-conf-file.json'\n",
    "up42.authenticate(cfg_file = project_conf_file)"
   ]
  },
  {
   "cell_type": "code",
   "execution_count": 3,
   "id": "3c6d0020-2bd2-4d4e-ad98-5591aa935d25",
   "metadata": {},
   "outputs": [],
   "source": [
    "# Initialze catalog\n",
    "catalog = up42.initialize_catalog()"
   ]
  },
  {
   "cell_type": "markdown",
   "id": "f53e3238-9319-4c87-b2c4-ba58f64b036d",
   "metadata": {
    "tags": []
   },
   "source": [
    "## Credit estimate"
   ]
  },
  {
   "cell_type": "markdown",
   "id": "3fdf600b-f942-43a2-8382-b64f96038bf7",
   "metadata": {
    "tags": []
   },
   "source": [
    "### Read order parameters file"
   ]
  },
  {
   "cell_type": "code",
   "execution_count": 4,
   "id": "ff0d3654-31ab-458b-ae19-ff900022b422",
   "metadata": {
    "tags": []
   },
   "outputs": [
    {
     "data": {
      "text/plain": [
       "{'dataProduct': '647780db-5a06-4b61-b525-577a8b68bb54',\n",
       " 'params': {'id': '4bcb09ba-af2a-484a-b659-2c839509b14e',\n",
       "  'aoi': {'type': 'Polygon',\n",
       "   'coordinates': [[[4.996977, 43.40246],\n",
       "     [4.989467, 43.397782],\n",
       "     [4.994745, 43.393292],\n",
       "     [5.002298, 43.398313],\n",
       "     [4.996977, 43.40246]]]}}}"
      ]
     },
     "execution_count": 4,
     "metadata": {},
     "output_type": "execute_result"
    }
   ],
   "source": [
    "# Load aoi from file\n",
    "\n",
    "file_path = Path.cwd()/'order_parameters_aoi-commercial-port.json'\n",
    "open_file = open(file_path)\n",
    "order_params = json.load(open_file)\n",
    "order_params"
   ]
  },
  {
   "cell_type": "markdown",
   "id": "b24ddb7e-64e1-4420-ac86-e7de88365330",
   "metadata": {
    "tags": []
   },
   "source": [
    "### Place the order"
   ]
  },
  {
   "cell_type": "markdown",
   "id": "e63b121d-4999-48b5-b3fd-9dcf205b450f",
   "metadata": {},
   "source": [
    "**** WARNING ****  Be careful, uncomment this code block only if you want to place an order."
   ]
  },
  {
   "cell_type": "code",
   "execution_count": 6,
   "id": "4fb69de8-bbce-4e24-991c-243342d799c3",
   "metadata": {},
   "outputs": [
    {
     "name": "stderr",
     "output_type": "stream",
     "text": [
      "2023-02-09 14:36:53,808 - Order is PLACED\n",
      "2023-02-09 14:36:53,810 - Order 304fe3ef-0371-4f02-a7c9-d1933de479a7 is now PLACED.\n"
     ]
    }
   ],
   "source": [
    "# You will spend credits if you place an order\n",
    "\n",
    "#place_order = catalog.place_order(order_params)"
   ]
  },
  {
   "cell_type": "code",
   "execution_count": 8,
   "id": "7294ac46-79e8-4132-959a-bd878285e1e9",
   "metadata": {},
   "outputs": [
    {
     "name": "stderr",
     "output_type": "stream",
     "text": [
      "2023-02-09 15:01:03,145 - Initialized Order(order_id: 304fe3ef-0371-4f02-a7c9-d1933de479a7, assets: ['7414e420-8ca9-4bcd-9f2d-171bac73013f'], dataProvider: None, status: FULFILLED, createdAt: 2023-02-09T19:36:47.525806Z, updatedAt: 2023-02-09T19:40:29.103691Z)\n"
     ]
    }
   ],
   "source": [
    "# Check on the order status\n",
    "order_id = place_order.order_id\n",
    "order = up42.initialize_order(order_id = order_id)"
   ]
  },
  {
   "cell_type": "markdown",
   "id": "6919e158-0149-40f8-af4a-5c2d5830df1a",
   "metadata": {},
   "source": [
    "---\n",
    "Fantastic ! Between the catalog search and ordering, you now see how easy it is to access archive satellite data through UP42.\n"
   ]
  },
  {
   "cell_type": "markdown",
   "id": "2f01580d-d5bb-44b5-ad48-a37e98749e25",
   "metadata": {
    "tags": []
   },
   "source": [
    "## Documentation\n",
    "\n",
    "https://sdk.up42.com/reference/catalog-reference\n",
    "\n",
    "Happy coding ! I hope this short notebook was heplfull, if you have any question please feel free to reach out to me at alex.bishop@up42.com or support@up42.com"
   ]
  },
  {
   "cell_type": "code",
   "execution_count": null,
   "id": "bb96c637-ba81-41f6-a67e-6befc269bb82",
   "metadata": {},
   "outputs": [],
   "source": []
  }
 ],
 "metadata": {
  "kernelspec": {
   "display_name": "Python 3 (ipykernel)",
   "language": "python",
   "name": "python3"
  },
  "language_info": {
   "codemirror_mode": {
    "name": "ipython",
    "version": 3
   },
   "file_extension": ".py",
   "mimetype": "text/x-python",
   "name": "python",
   "nbconvert_exporter": "python",
   "pygments_lexer": "ipython3",
   "version": "3.8.12"
  }
 },
 "nbformat": 4,
 "nbformat_minor": 5
}
