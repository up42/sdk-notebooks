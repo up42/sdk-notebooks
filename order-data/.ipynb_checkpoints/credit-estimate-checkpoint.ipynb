{
 "cells": [
  {
   "cell_type": "markdown",
   "id": "d6bcb130-be21-41c3-8c7f-b90cabb62235",
   "metadata": {
    "tags": []
   },
   "source": [
    "# Archive scene cost estimate"
   ]
  },
  {
   "cell_type": "markdown",
   "id": "9f47cb94-7585-470a-ae94-f2d1067af004",
   "metadata": {},
   "source": [
    "---\n",
    "Here we will estimate the cost in credits to order scenes identified in our catalog search. This notebook assumes you have already run through the catalog-search notebook as we will be using the results that were exported to our search-report geojson file. </br>\n",
    "The intent of separating these different steps into unique notebooks is so that we can focus on distinct capabilities of the UP42 API but also to keep the notebooks from becoming lengthy.</br>\n",
    "---\n",
    "\n",
    "For the estimate we will need to bring some parameters together and pass them to the construct_order_parameters() function. We will need three items: </br>\n",
    "1. aoi - The geometry of the order</br>\n",
    "2. image_id - The id of the desired image (from search results) </br>\n",
    "3. data_product_id - Unique identifier of the desired UP42 data product, see catalog.get_data_products (i.e. Pleiades display, WorldDEM Neo, etc..)\n",
    "\n",
    "The construct_order_parameters() function builds a json payload that the UP42 API will use to return an estimate for the cost of the scene overlapping the AOI provided. "
   ]
  },
  {
   "cell_type": "markdown",
   "id": "fc0fd65d-5d33-45f3-a279-948360956783",
   "metadata": {
    "tags": []
   },
   "source": [
    "## Python Libraries"
   ]
  },
  {
   "cell_type": "code",
   "execution_count": 1,
   "id": "00a51b47-7d71-4e0f-922b-5d530e775b9a",
   "metadata": {},
   "outputs": [],
   "source": [
    "import up42\n",
    "\n",
    "from pathlib import Path\n",
    "from pprint import pprint"
   ]
  },
  {
   "cell_type": "markdown",
   "id": "0c67894f-b844-40f2-9d19-01ff46889623",
   "metadata": {
    "tags": []
   },
   "source": [
    "## Authenticate with UP42"
   ]
  },
  {
   "cell_type": "markdown",
   "id": "181d154c-e546-4513-8636-93a78ed7a92a",
   "metadata": {},
   "source": [
    "This notebook is meant as a following step to the archive search that produced by search report exported to geojson format. If you have not looked at the catalog-searcg notebook please do so now before moving on with this notebook."
   ]
  },
  {
   "cell_type": "code",
   "execution_count": 2,
   "id": "49283cda-5c43-4a0c-a1f6-425c8cc928c1",
   "metadata": {},
   "outputs": [
    {
     "name": "stderr",
     "output_type": "stream",
     "text": [
      "2023-02-09 15:20:51,943 - Got credentials from config file.\n",
      "2023-02-09 15:20:52,942 - Authentication with UP42 successful!\n"
     ]
    }
   ],
   "source": [
    "# Project credentials\n",
    "project_conf_file = Path.cwd()/'proj-conf-file.json'\n",
    "up42.authenticate(cfg_file = project_conf_file)"
   ]
  },
  {
   "cell_type": "code",
   "execution_count": 3,
   "id": "3c6d0020-2bd2-4d4e-ad98-5591aa935d25",
   "metadata": {},
   "outputs": [],
   "source": [
    "# Initialze catalog\n",
    "catalog = up42.initialize_catalog()"
   ]
  },
  {
   "cell_type": "markdown",
   "id": "f53e3238-9319-4c87-b2c4-ba58f64b036d",
   "metadata": {
    "tags": []
   },
   "source": [
    "## Credit estimate"
   ]
  },
  {
   "cell_type": "markdown",
   "id": "3fdf600b-f942-43a2-8382-b64f96038bf7",
   "metadata": {
    "tags": []
   },
   "source": [
    "### AOI "
   ]
  },
  {
   "cell_type": "code",
   "execution_count": 4,
   "id": "ff0d3654-31ab-458b-ae19-ff900022b422",
   "metadata": {
    "tags": []
   },
   "outputs": [
    {
     "data": {
      "text/plain": [
       "{'type': 'FeatureCollection',\n",
       " 'features': [{'id': '0',\n",
       "   'type': 'Feature',\n",
       "   'properties': {},\n",
       "   'geometry': {'type': 'Polygon',\n",
       "    'coordinates': (((-1.198196, 44.632016),\n",
       "      (-1.217422, 44.595846),\n",
       "      (-1.255875, 44.540569),\n",
       "      (-1.256561, 44.517562),\n",
       "      (-1.243515, 44.488668),\n",
       "      (-1.196823, 44.490628),\n",
       "      (-1.170731, 44.527353),\n",
       "      (-1.156998, 44.524906),\n",
       "      (-1.137772, 44.582643),\n",
       "      (-1.141891, 44.60709),\n",
       "      (-1.128845, 44.622732),\n",
       "      (-1.124039, 44.642277),\n",
       "      (-1.148758, 44.654001),\n",
       "      (-1.153564, 44.666211),\n",
       "      (-1.175537, 44.665234),\n",
       "      (-1.19545, 44.661816),\n",
       "      (-1.20575, 44.649605),\n",
       "      (-1.198196, 44.632016)),)},\n",
       "   'bbox': (-1.256561, 44.488668, -1.124039, 44.666211)}],\n",
       " 'bbox': (-1.256561, 44.488668, -1.124039, 44.666211)}"
      ]
     },
     "execution_count": 4,
     "metadata": {},
     "output_type": "execute_result"
    }
   ],
   "source": [
    "# Load aoi from file\n",
    "\n",
    "geojson_aoi_file = Path.cwd()/'aoi/aoi-teste-de-buch-fire.geojson'\n",
    "aoi = up42.read_vector_file(geojson_aoi_file)\n",
    "aoi"
   ]
  },
  {
   "cell_type": "markdown",
   "id": "b24ddb7e-64e1-4420-ac86-e7de88365330",
   "metadata": {
    "tags": []
   },
   "source": [
    "### Image_ID"
   ]
  },
  {
   "cell_type": "markdown",
   "id": "e63b121d-4999-48b5-b3fd-9dcf205b450f",
   "metadata": {},
   "source": [
    "Let's retrieve the image_ids along with some metadata from our search report file."
   ]
  },
  {
   "cell_type": "code",
   "execution_count": 5,
   "id": "4fb69de8-bbce-4e24-991c-243342d799c3",
   "metadata": {},
   "outputs": [],
   "source": [
    "# Load search results generated from the archive search notebook.\n",
    "\n",
    "archive_search_file = Path.cwd()/'SEARCH-REPORT_aoi-teste-de-buch-fire.geojson'\n",
    "open_archive_search_file = up42.read_vector_file(archive_search_file)"
   ]
  },
  {
   "cell_type": "code",
   "execution_count": 12,
   "id": "267e27ff-5932-44f7-b52d-23469f4e9ada",
   "metadata": {
    "tags": []
   },
   "outputs": [
    {
     "name": "stdout",
     "output_type": "stream",
     "text": [
      "0 - 64f592b0-124e-436b-874b-adc3db7ee74a - pneo - 4.0\n",
      "1 - 428ba0dc-c7ad-43f4-b27e-79147aac91ef - pneo - 3.8\n",
      "2 - a1f837d9-219a-4720-aa08-042951cb7f96 - phr - 2.24\n",
      "3 - bddd0821-f2e7-4bef-8226-914c382fae58 - phr - 2.1\n",
      "4 - 64a3aa64-f8bd-43bc-a706-970ad5116575 - phr - 5.6\n",
      "5 - a5706370-237d-4d83-a51e-59f8a1e00d03 - phr - 0.0\n",
      "6 - 262684f7-7b81-40a9-b4ee-ee704dd9f56a - spot - 0.0\n",
      "7 - 70230250-6af7-4faa-bf53-f8b681ff8382 - spot - 0.0\n",
      "8 - cd8e3255-9dac-45f7-bf3e-f69bd3cf71fd - phr - 1.85\n",
      "9 - b869bd70-dda2-4f0e-931a-71c032b9efd4 - spot - 0.0\n"
     ]
    }
   ],
   "source": [
    "# Let's dig up some metadata from our archove search report\n",
    "\n",
    "for count, scene in enumerate(open_archive_search_file['features']):\n",
    "    \n",
    "    cloud_coverage = scene['properties']['cloudCoverage']\n",
    "    constellation = scene['properties']['constellation']\n",
    "    image_id = scene['properties']['id']\n",
    "    \n",
    "    print(f\"{count} - {image_id} - {constellation} - {cloud_coverage}\")"
   ]
  },
  {
   "cell_type": "markdown",
   "id": "3376a8ec-0836-445a-bcff-686b101f0210",
   "metadata": {},
   "source": [
    "---\n",
    "Let's build a list of all the PHR scenes in our search report file.\n",
    "We could replace phr by pneo or spot because we originally ran the search against phr, pneo and spot all at once in the catalog-search notebook"
   ]
  },
  {
   "cell_type": "code",
   "execution_count": 13,
   "id": "be6f61d2-1841-459b-a582-5bda1e26a093",
   "metadata": {},
   "outputs": [
    {
     "data": {
      "text/plain": [
       "['a1f837d9-219a-4720-aa08-042951cb7f96',\n",
       " 'bddd0821-f2e7-4bef-8226-914c382fae58',\n",
       " '64a3aa64-f8bd-43bc-a706-970ad5116575',\n",
       " 'a5706370-237d-4d83-a51e-59f8a1e00d03',\n",
       " 'cd8e3255-9dac-45f7-bf3e-f69bd3cf71fd']"
      ]
     },
     "execution_count": 13,
     "metadata": {},
     "output_type": "execute_result"
    }
   ],
   "source": [
    "image_id_list= []\n",
    "\n",
    "for scene in open_archive_search_file['features']:\n",
    "    if scene['properties']['collection'] == 'phr':\n",
    "        image_id_list.append(scene['properties']['id'])\n",
    "        \n",
    "image_id_list"
   ]
  },
  {
   "cell_type": "markdown",
   "id": "d8300bda-f96b-4502-8965-e281394453bb",
   "metadata": {
    "tags": []
   },
   "source": [
    "</br>\n",
    "Back to more serious things, we now have an image_id and have confirmed it is Pleiades (PHR) scene. We have two of the three required parameters that are needed by the construct_order_parameters() fuction. The last parameter is finding the product_id for pleiades reflectance. </br>"
   ]
  },
  {
   "cell_type": "markdown",
   "id": "9116c8d9-4fc2-434e-a202-2f8d9a473391",
   "metadata": {},
   "source": [
    "### Product ID"
   ]
  },
  {
   "cell_type": "code",
   "execution_count": 14,
   "id": "37421f1e-e122-4fdb-9c1b-9dd741dd5c93",
   "metadata": {},
   "outputs": [
    {
     "data": {
      "text/plain": [
       "dict_keys(['Near Space Labs - 30cm', 'Capella Space GEC', 'Capella Space GEO', 'Capella Space SICD', 'Capella Space SLC', 'Pléiades Neo', 'SPOT 6/7', 'Pléiades', 'TripleSat', 'WorldDEM Neo', 'NEXTMap One DSM', 'NEXTMap One DTM', 'NEXTMap One Bundle', 'NEXTMap 6 DSM', 'NEXTMap 6 DTM', 'NEXTMap 6 Bundle', 'NEXTMap 10 DSM', 'NEXTMap 10 DTM', 'NEXTMap 10 Bundle'])"
      ]
     },
     "execution_count": 14,
     "metadata": {},
     "output_type": "execute_result"
    }
   ],
   "source": [
    "# Currently available products\n",
    "\n",
    "prod_dict = catalog.get_data_products()\n",
    "prod_dict.keys()"
   ]
  },
  {
   "cell_type": "markdown",
   "id": "f5c196cf-661e-4757-9c9a-5f04a6cbfee4",
   "metadata": {},
   "source": [
    "</br>From the above options we need to find the product values for key 'Pléiades'"
   ]
  },
  {
   "cell_type": "code",
   "execution_count": 15,
   "id": "384d868d-2c8f-4c64-a368-6fee4b2c9733",
   "metadata": {},
   "outputs": [
    {
     "name": "stdout",
     "output_type": "stream",
     "text": [
      "{'collection': 'phr',\n",
      " 'data_products': {'Analytic': '4f1b2f62-98df-4c74-81f4-5dce45deee99',\n",
      "                   'Display': '647780db-5a06-4b61-b525-577a8b68bb54'},\n",
      " 'host': 'oneatlas'}\n"
     ]
    }
   ],
   "source": [
    "# Find the product dictionary values for key 'Pléiades'\n",
    "\n",
    "search_key = 'Pléiades'\n",
    "\n",
    "if search_key in prod_dict.keys():\n",
    "    pprint(prod_dict[search_key])\n",
    "    "
   ]
  },
  {
   "cell_type": "markdown",
   "id": "6789445d-5f22-4536-892b-51f33deaea63",
   "metadata": {},
   "source": [
    "</br>As you can see in the json above, the UP42 API currently provides access to two Pleiades products. The Display and Analytic products. Both of these products are orthorectified and delivered in UTM CRS. Today we are interested in building order parameters for the analytic product.</br>\n",
    "If you need to access to a Primary or Projected product please reach out to the sales team at sales@up42.com or myself at alex.bishop@up42.com\n",
    "</br>"
   ]
  },
  {
   "cell_type": "markdown",
   "id": "602f5987-e146-4643-aaf2-ebdcf0fecf00",
   "metadata": {},
   "source": [
    "### Order parameters"
   ]
  },
  {
   "cell_type": "markdown",
   "id": "a1182545-6d61-4c10-8707-763d01b09464",
   "metadata": {},
   "source": [
    "We can now bring all our parameters together and pass them to the construct_order_parameters() function. From the list of phr image id's we made, let's see how much the third scene or image_id_list[2] would cost."
   ]
  },
  {
   "cell_type": "code",
   "execution_count": 16,
   "id": "88d64f25-01e2-4759-a888-1999d596b246",
   "metadata": {
    "tags": []
   },
   "outputs": [
    {
     "name": "stderr",
     "output_type": "stream",
     "text": [
      "2023-02-09 15:28:43,479 - See `catalog.get_data_product_schema(data_product_id)` for more detail on the parameter options.\n"
     ]
    },
    {
     "data": {
      "text/plain": [
       "{'dataProduct': '4f1b2f62-98df-4c74-81f4-5dce45deee99',\n",
       " 'params': {'id': '64a3aa64-f8bd-43bc-a706-970ad5116575',\n",
       "  'aoi': {'type': 'Polygon',\n",
       "   'coordinates': (((-1.198196, 44.632016),\n",
       "     (-1.217422, 44.595846),\n",
       "     (-1.255875, 44.540569),\n",
       "     (-1.256561, 44.517562),\n",
       "     (-1.243515, 44.488668),\n",
       "     (-1.196823, 44.490628),\n",
       "     (-1.170731, 44.527353),\n",
       "     (-1.156998, 44.524906),\n",
       "     (-1.137772, 44.582643),\n",
       "     (-1.141891, 44.60709),\n",
       "     (-1.128845, 44.622732),\n",
       "     (-1.124039, 44.642277),\n",
       "     (-1.148758, 44.654001),\n",
       "     (-1.153564, 44.666211),\n",
       "     (-1.175537, 44.665234),\n",
       "     (-1.19545, 44.661816),\n",
       "     (-1.20575, 44.649605),\n",
       "     (-1.198196, 44.632016)),)}}}"
      ]
     },
     "execution_count": 16,
     "metadata": {},
     "output_type": "execute_result"
    }
   ],
   "source": [
    "# Construct order parameters\n",
    "\n",
    "single_scene_order_parameters = catalog.construct_order_parameters(\n",
    "    data_product_id = prod_dict[search_key]['data_products']['Analytic'], \n",
    "    image_id = image_id_list[2],\n",
    "    aoi = aoi)\n",
    "\n",
    "single_scene_order_parameters"
   ]
  },
  {
   "cell_type": "markdown",
   "id": "2c8acdf7-2672-426b-bce1-856026ced5fc",
   "metadata": {
    "tags": []
   },
   "source": [
    "## Get credit estimate"
   ]
  },
  {
   "cell_type": "markdown",
   "id": "cccac11c-c1b6-40b7-9346-f4972353fdf7",
   "metadata": {},
   "source": [
    "Finaly, we simply pass our order_parameters to the estimate_order() function"
   ]
  },
  {
   "cell_type": "code",
   "execution_count": 17,
   "id": "7889aa92-ac7a-4194-835f-8d52cb69a730",
   "metadata": {
    "tags": []
   },
   "outputs": [
    {
     "name": "stderr",
     "output_type": "stream",
     "text": [
      "2023-02-09 15:28:51,158 - Order is estimated to cost 98580 UP42 credits (order_parameters: {'dataProduct': '4f1b2f62-98df-4c74-81f4-5dce45deee99', 'params': {'id': '64a3aa64-f8bd-43bc-a706-970ad5116575', 'aoi': {'type': 'Polygon', 'coordinates': (((-1.198196, 44.632016), (-1.217422, 44.595846), (-1.255875, 44.540569), (-1.256561, 44.517562), (-1.243515, 44.488668), (-1.196823, 44.490628), (-1.170731, 44.527353), (-1.156998, 44.524906), (-1.137772, 44.582643), (-1.141891, 44.60709), (-1.128845, 44.622732), (-1.124039, 44.642277), (-1.148758, 44.654001), (-1.153564, 44.666211), (-1.175537, 44.665234), (-1.19545, 44.661816), (-1.20575, 44.649605), (-1.198196, 44.632016)),)}}})\n"
     ]
    },
    {
     "name": "stdout",
     "output_type": "stream",
     "text": [
      "Credit estimate: 98580 (985.8 euros)\n"
     ]
    }
   ],
   "source": [
    "# Credit estimate\n",
    "\n",
    "credit_estimate = catalog.estimate_order(single_scene_order_parameters)\n",
    "print(f\"Credit estimate: {credit_estimate} ({credit_estimate / 100} euros)\")"
   ]
  },
  {
   "cell_type": "markdown",
   "id": "5ae7e1e6-e70f-4f31-ae1b-8c46b85cdaf6",
   "metadata": {},
   "source": [
    "---\n",
    "More fun, we can easily loop over all the scenes in our image_id_list we made earlier and get the credit estimates to all the scenes at once.</br>"
   ]
  },
  {
   "cell_type": "code",
   "execution_count": 18,
   "id": "e1a8f635-a736-431a-94fd-048edb7f0482",
   "metadata": {},
   "outputs": [
    {
     "name": "stderr",
     "output_type": "stream",
     "text": [
      "2023-02-09 15:28:53,476 - See `catalog.get_data_product_schema(data_product_id)` for more detail on the parameter options.\n",
      "2023-02-09 15:28:56,069 - Order is estimated to cost 114690 UP42 credits (order_parameters: {'dataProduct': '4f1b2f62-98df-4c74-81f4-5dce45deee99', 'params': {'id': 'a1f837d9-219a-4720-aa08-042951cb7f96', 'aoi': {'type': 'Polygon', 'coordinates': (((-1.198196, 44.632016), (-1.217422, 44.595846), (-1.255875, 44.540569), (-1.256561, 44.517562), (-1.243515, 44.488668), (-1.196823, 44.490628), (-1.170731, 44.527353), (-1.156998, 44.524906), (-1.137772, 44.582643), (-1.141891, 44.60709), (-1.128845, 44.622732), (-1.124039, 44.642277), (-1.148758, 44.654001), (-1.153564, 44.666211), (-1.175537, 44.665234), (-1.19545, 44.661816), (-1.20575, 44.649605), (-1.198196, 44.632016)),)}}})\n",
      "2023-02-09 15:28:56,070 - See `catalog.get_data_product_schema(data_product_id)` for more detail on the parameter options.\n"
     ]
    },
    {
     "name": "stdout",
     "output_type": "stream",
     "text": [
      "Scene a1f837d9-219a-4720-aa08-042951cb7f96 cost 114690 (1146.9 euros)\n"
     ]
    },
    {
     "name": "stderr",
     "output_type": "stream",
     "text": [
      "2023-02-09 15:28:58,362 - Order is estimated to cost 115030 UP42 credits (order_parameters: {'dataProduct': '4f1b2f62-98df-4c74-81f4-5dce45deee99', 'params': {'id': 'bddd0821-f2e7-4bef-8226-914c382fae58', 'aoi': {'type': 'Polygon', 'coordinates': (((-1.198196, 44.632016), (-1.217422, 44.595846), (-1.255875, 44.540569), (-1.256561, 44.517562), (-1.243515, 44.488668), (-1.196823, 44.490628), (-1.170731, 44.527353), (-1.156998, 44.524906), (-1.137772, 44.582643), (-1.141891, 44.60709), (-1.128845, 44.622732), (-1.124039, 44.642277), (-1.148758, 44.654001), (-1.153564, 44.666211), (-1.175537, 44.665234), (-1.19545, 44.661816), (-1.20575, 44.649605), (-1.198196, 44.632016)),)}}})\n",
      "2023-02-09 15:28:58,363 - See `catalog.get_data_product_schema(data_product_id)` for more detail on the parameter options.\n"
     ]
    },
    {
     "name": "stdout",
     "output_type": "stream",
     "text": [
      "Scene bddd0821-f2e7-4bef-8226-914c382fae58 cost 115030 (1150.3 euros)\n"
     ]
    },
    {
     "name": "stderr",
     "output_type": "stream",
     "text": [
      "2023-02-09 15:29:01,498 - Order is estimated to cost 98580 UP42 credits (order_parameters: {'dataProduct': '4f1b2f62-98df-4c74-81f4-5dce45deee99', 'params': {'id': '64a3aa64-f8bd-43bc-a706-970ad5116575', 'aoi': {'type': 'Polygon', 'coordinates': (((-1.198196, 44.632016), (-1.217422, 44.595846), (-1.255875, 44.540569), (-1.256561, 44.517562), (-1.243515, 44.488668), (-1.196823, 44.490628), (-1.170731, 44.527353), (-1.156998, 44.524906), (-1.137772, 44.582643), (-1.141891, 44.60709), (-1.128845, 44.622732), (-1.124039, 44.642277), (-1.148758, 44.654001), (-1.153564, 44.666211), (-1.175537, 44.665234), (-1.19545, 44.661816), (-1.20575, 44.649605), (-1.198196, 44.632016)),)}}})\n",
      "2023-02-09 15:29:01,500 - See `catalog.get_data_product_schema(data_product_id)` for more detail on the parameter options.\n"
     ]
    },
    {
     "name": "stdout",
     "output_type": "stream",
     "text": [
      "Scene 64a3aa64-f8bd-43bc-a706-970ad5116575 cost 98580 (985.8 euros)\n"
     ]
    },
    {
     "name": "stderr",
     "output_type": "stream",
     "text": [
      "2023-02-09 15:29:04,061 - Order is estimated to cost 35190 UP42 credits (order_parameters: {'dataProduct': '4f1b2f62-98df-4c74-81f4-5dce45deee99', 'params': {'id': 'a5706370-237d-4d83-a51e-59f8a1e00d03', 'aoi': {'type': 'Polygon', 'coordinates': (((-1.198196, 44.632016), (-1.217422, 44.595846), (-1.255875, 44.540569), (-1.256561, 44.517562), (-1.243515, 44.488668), (-1.196823, 44.490628), (-1.170731, 44.527353), (-1.156998, 44.524906), (-1.137772, 44.582643), (-1.141891, 44.60709), (-1.128845, 44.622732), (-1.124039, 44.642277), (-1.148758, 44.654001), (-1.153564, 44.666211), (-1.175537, 44.665234), (-1.19545, 44.661816), (-1.20575, 44.649605), (-1.198196, 44.632016)),)}}})\n",
      "2023-02-09 15:29:04,063 - See `catalog.get_data_product_schema(data_product_id)` for more detail on the parameter options.\n"
     ]
    },
    {
     "name": "stdout",
     "output_type": "stream",
     "text": [
      "Scene a5706370-237d-4d83-a51e-59f8a1e00d03 cost 35190 (351.9 euros)\n"
     ]
    },
    {
     "name": "stderr",
     "output_type": "stream",
     "text": [
      "2023-02-09 15:29:06,002 - Order is estimated to cost 73660 UP42 credits (order_parameters: {'dataProduct': '4f1b2f62-98df-4c74-81f4-5dce45deee99', 'params': {'id': 'cd8e3255-9dac-45f7-bf3e-f69bd3cf71fd', 'aoi': {'type': 'Polygon', 'coordinates': (((-1.198196, 44.632016), (-1.217422, 44.595846), (-1.255875, 44.540569), (-1.256561, 44.517562), (-1.243515, 44.488668), (-1.196823, 44.490628), (-1.170731, 44.527353), (-1.156998, 44.524906), (-1.137772, 44.582643), (-1.141891, 44.60709), (-1.128845, 44.622732), (-1.124039, 44.642277), (-1.148758, 44.654001), (-1.153564, 44.666211), (-1.175537, 44.665234), (-1.19545, 44.661816), (-1.20575, 44.649605), (-1.198196, 44.632016)),)}}})\n"
     ]
    },
    {
     "name": "stdout",
     "output_type": "stream",
     "text": [
      "Scene cd8e3255-9dac-45f7-bf3e-f69bd3cf71fd cost 73660 (736.6 euros)\n"
     ]
    }
   ],
   "source": [
    "for scene in image_id_list:\n",
    "    order_parameters = catalog.construct_order_parameters(\n",
    "        data_product_id = prod_dict[search_key]['data_products']['Analytic'], \n",
    "        image_id = scene,\n",
    "        aoi = aoi)\n",
    "    \n",
    "    credit_estimate = catalog.estimate_order(order_parameters)\n",
    "    print(f\"Scene {scene} cost {credit_estimate} ({credit_estimate / 100} euros)\")"
   ]
  },
  {
   "cell_type": "markdown",
   "id": "6919e158-0149-40f8-af4a-5c2d5830df1a",
   "metadata": {},
   "source": [
    "---\n",
    "Nice ! Next we will see how to order the data. For this we will need the order_parameters we just built so let's export that to a simple geojson file.\n"
   ]
  },
  {
   "cell_type": "code",
   "execution_count": 19,
   "id": "f5f325d2-e3ba-4041-a05e-abf01cf2fe6e",
   "metadata": {},
   "outputs": [],
   "source": [
    "import json\n",
    "\n",
    "with open(\"order_parameters_\"+geojson_aoi_file.stem+\".json\", \"w\") as outfile:\n",
    "    json.dump(single_scene_order_parameters, outfile)"
   ]
  },
  {
   "cell_type": "markdown",
   "id": "2f01580d-d5bb-44b5-ad48-a37e98749e25",
   "metadata": {
    "tags": []
   },
   "source": [
    "## Documentation\n",
    "\n",
    "https://sdk.up42.com/reference/catalog-reference\n",
    "\n",
    "Happy coding ! I hope this short notebook was heplfull, if you have any question please feel free to reach out to me at alex.bishop@up42.com or support@up42.com"
   ]
  },
  {
   "cell_type": "code",
   "execution_count": null,
   "id": "bb96c637-ba81-41f6-a67e-6befc269bb82",
   "metadata": {},
   "outputs": [],
   "source": []
  }
 ],
 "metadata": {
  "kernelspec": {
   "display_name": "Python 3 (ipykernel)",
   "language": "python",
   "name": "python3"
  },
  "language_info": {
   "codemirror_mode": {
    "name": "ipython",
    "version": 3
   },
   "file_extension": ".py",
   "mimetype": "text/x-python",
   "name": "python",
   "nbconvert_exporter": "python",
   "pygments_lexer": "ipython3",
   "version": "3.8.12"
  }
 },
 "nbformat": 4,
 "nbformat_minor": 5
}
